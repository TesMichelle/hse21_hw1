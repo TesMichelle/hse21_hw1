{
 "cells": [
  {
   "cell_type": "code",
   "execution_count": 1,
   "id": "olympic-tunisia",
   "metadata": {},
   "outputs": [],
   "source": [
    "def argmax(l):\n",
    "    f = lambda x: l[x]\n",
    "    return(max(range(len(l)), key=f))"
   ]
  },
  {
   "cell_type": "code",
   "execution_count": 2,
   "id": "pursuant-pearl",
   "metadata": {},
   "outputs": [],
   "source": [
    "def seq_count(name):\n",
    "    file = open(name)\n",
    "    c = 0\n",
    "    for line in file:\n",
    "        if line[0] == '>':\n",
    "            c += 1\n",
    "    file.close()\n",
    "    return c"
   ]
  },
  {
   "cell_type": "code",
   "execution_count": 3,
   "id": "hungry-haiti",
   "metadata": {},
   "outputs": [],
   "source": [
    "def seq_length(name):\n",
    "    file = open(name)\n",
    "    c = 0\n",
    "    seq_names = []\n",
    "    seq_lens = []\n",
    "    for line in file:\n",
    "        if line[0] == '>':\n",
    "            seq_names.append(line)\n",
    "            seq_lens.append(0)\n",
    "            #print(line)\n",
    "        else:\n",
    "            #print(len(line)-1, line)\n",
    "            seq_lens[-1]+= (line.count('A') + line.count('T') + line.count('C') + line.count('G') + line.count('N'))\n",
    "    file.close()\n",
    "    return seq_names, seq_lens"
   ]
  },
  {
   "cell_type": "code",
   "execution_count": 4,
   "id": "hungry-hands",
   "metadata": {},
   "outputs": [],
   "source": [
    "def seq_N50(name):\n",
    "    _, lens = seq_length(name)\n",
    "    total = sum(lens)\n",
    "    lens.sort()\n",
    "    s = 0\n",
    "    i = 0\n",
    "    while s < total/2:\n",
    "        s += lens[i]\n",
    "        i += 1\n",
    "    return lens[i-1]"
   ]
  },
  {
   "cell_type": "code",
   "execution_count": 5,
   "id": "portable-shuttle",
   "metadata": {},
   "outputs": [],
   "source": [
    "def the_longest_seq(name, out='seq.fa'):\n",
    "    names, lens = seq_length(name)\n",
    "    seq_name = names[argmax(lens)]\n",
    "    file = open(name)\n",
    "    f = 0\n",
    "    seq = ''\n",
    "    for line in file:\n",
    "        if line[0] == '>' and line == seq_name:\n",
    "            f = 1\n",
    "        elif line[0] == '>' and line != seq_name:\n",
    "            f = 0\n",
    "        elif f == 1:\n",
    "            seq += line\n",
    "    file.close()\n",
    "    fout = open(out, 'w')\n",
    "    fout.write(seq_name)\n",
    "    fout.write(seq)\n",
    "    fout.close()"
   ]
  },
  {
   "cell_type": "code",
   "execution_count": 6,
   "id": "operational-transparency",
   "metadata": {},
   "outputs": [],
   "source": [
    "def gap_count(name):\n",
    "    file = open(name)\n",
    "    c = 0\n",
    "    for line in file:\n",
    "        if line[0] != '>':\n",
    "            while line != line.replace('NN', 'N'):\n",
    "                line = line.replace('NN', 'N')\n",
    "            c += line.count('N')\n",
    "    return c"
   ]
  },
  {
   "cell_type": "code",
   "execution_count": 7,
   "id": "compound-matter",
   "metadata": {},
   "outputs": [],
   "source": [
    "def total_gap_len(name):\n",
    "    file = open(name)\n",
    "    c = 0\n",
    "    for line in file:\n",
    "        if line[0] != '>':\n",
    "            c += line.count('N')\n",
    "    return c"
   ]
  },
  {
   "cell_type": "code",
   "execution_count": 8,
   "id": "recent-kingston",
   "metadata": {},
   "outputs": [],
   "source": [
    "d = '../data/'"
   ]
  },
  {
   "cell_type": "markdown",
   "id": "irish-devil",
   "metadata": {},
   "source": [
    "# Основное задание"
   ]
  },
  {
   "cell_type": "markdown",
   "id": "detailed-basic",
   "metadata": {},
   "source": [
    "## Контиги"
   ]
  },
  {
   "cell_type": "code",
   "execution_count": 9,
   "id": "silver-oakland",
   "metadata": {},
   "outputs": [
    {
     "name": "stdout",
     "output_type": "stream",
     "text": [
      "Количество: 609\n",
      "Общая длина: 3925444 \n",
      "Максимальная длина: 179304\n",
      "N50: 54904\n"
     ]
    }
   ],
   "source": [
    "filename = d + \"contigs.fa\"\n",
    "seq_names, seq_lens = seq_length(filename)\n",
    "print('Количество:',seq_count(filename))\n",
    "print('Общая длина:', sum(seq_lens), '\\nМаксимальная длина:', max(seq_lens))\n",
    "print('N50:', seq_N50(filename))"
   ]
  },
  {
   "cell_type": "markdown",
   "id": "useful-democrat",
   "metadata": {},
   "source": [
    "## Скафолды"
   ]
  },
  {
   "cell_type": "code",
   "execution_count": 10,
   "id": "protected-fever",
   "metadata": {},
   "outputs": [
    {
     "name": "stdout",
     "output_type": "stream",
     "text": [
      "Количество: 73\n",
      "Общая длина: 3875043 \n",
      "Максимальная длина: 3832469\n",
      "N50: 3832469\n",
      "Количество гэпов в самой длинной seq. : 135\n",
      "Общаа длина гэпов в самой длинной seq. : 6245\n"
     ]
    }
   ],
   "source": [
    "filename = d + \"scaffolds_without_gap_close.fa\"\n",
    "filename_out = d + 'longest_without_gap_close.fa'\n",
    "seq_names, seq_lens = seq_length(filename)\n",
    "the_longest_seq(filename, out=filename_out)\n",
    "\n",
    "print('Количество:',seq_count(filename))\n",
    "print('Общая длина:', sum(seq_lens), '\\nМаксимальная длина:', max(seq_lens))\n",
    "print('N50:', seq_N50(filename))\n",
    "print('Количество гэпов в самой длинной seq. :', gap_count(filename_out))\n",
    "print('Общаа длина гэпов в самой длинной seq. :', total_gap_len(filename_out))"
   ]
  },
  {
   "cell_type": "markdown",
   "id": "religious-province",
   "metadata": {},
   "source": [
    "## Скафолды с gap_close"
   ]
  },
  {
   "cell_type": "code",
   "execution_count": 11,
   "id": "existing-occupation",
   "metadata": {},
   "outputs": [
    {
     "name": "stdout",
     "output_type": "stream",
     "text": [
      "Количество: 73\n",
      "Общая длина: 3923032 \n",
      "Максимальная длина: 3880265\n",
      "N50: 3880265\n",
      "Количество гэпов в самой длинной seq. : 25\n",
      "Общаа длина гэпов в самой длинной seq. : 1458\n"
     ]
    }
   ],
   "source": [
    "filename = d + \"scaffolds.fa\"\n",
    "filename_out = d + 'longest.fa'\n",
    "seq_names, seq_lens = seq_length(filename)\n",
    "the_longest_seq(filename, out=filename_out)\n",
    "\n",
    "print('Количество:',seq_count(filename))\n",
    "print('Общая длина:', sum(seq_lens), '\\nМаксимальная длина:', max(seq_lens))\n",
    "print('N50:', seq_N50(filename))\n",
    "print('Количество гэпов в самой длинной seq. :', gap_count(filename_out))\n",
    "print('Общаа длина гэпов в самой длинной seq. :', total_gap_len(filename_out))"
   ]
  },
  {
   "cell_type": "markdown",
   "id": "imperial-bahrain",
   "metadata": {},
   "source": [
    "# Доп. задание: 50% ридов от начального кол-ва"
   ]
  },
  {
   "cell_type": "markdown",
   "id": "bigger-chamber",
   "metadata": {},
   "source": [
    "## Скафолды с gap_close"
   ]
  },
  {
   "cell_type": "code",
   "execution_count": 13,
   "id": "defined-ozone",
   "metadata": {},
   "outputs": [
    {
     "name": "stdout",
     "output_type": "stream",
     "text": [
      "Количество: 72\n",
      "Общая длина: 3905002 \n",
      "Максимальная длина: 3867160\n",
      "N50: 3867160\n",
      "Количество гэпов в самой длинной seq. : 36\n",
      "Общаа длина гэпов в самой длинной seq. : 2126\n"
     ]
    }
   ],
   "source": [
    "filename = d + \"low_scaffolds.fa\"\n",
    "filename_out = d + 'low_longest.fa'\n",
    "seq_names, seq_lens = seq_length(filename)\n",
    "the_longest_seq(filename, out=filename_out)\n",
    "\n",
    "print('Количество:',seq_count(filename))\n",
    "print('Общая длина:', sum(seq_lens), '\\nМаксимальная длина:', max(seq_lens))\n",
    "print('N50:', seq_N50(filename))\n",
    "print('Количество гэпов в самой длинной seq. :', gap_count(filename_out))\n",
    "print('Общаа длина гэпов в самой длинной seq. :', total_gap_len(filename_out))"
   ]
  },
  {
   "cell_type": "code",
   "execution_count": null,
   "id": "spectacular-engineer",
   "metadata": {},
   "outputs": [],
   "source": []
  }
 ],
 "metadata": {
  "kernelspec": {
   "display_name": "Python 3",
   "language": "python",
   "name": "python3"
  },
  "language_info": {
   "codemirror_mode": {
    "name": "ipython",
    "version": 3
   },
   "file_extension": ".py",
   "mimetype": "text/x-python",
   "name": "python",
   "nbconvert_exporter": "python",
   "pygments_lexer": "ipython3",
   "version": "3.9.2"
  }
 },
 "nbformat": 4,
 "nbformat_minor": 5
}
